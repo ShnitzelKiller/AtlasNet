{
 "cells": [
  {
   "cell_type": "code",
   "execution_count": 1,
   "id": "271fd9aa-13d0-4ea3-8d20-6d560502414a",
   "metadata": {},
   "outputs": [],
   "source": [
    "from auxiliary.argument_parser import parser\n",
    "from auxiliary.visualization import Visualizer\n",
    "from tester import Tester\n",
    "import pymesh\n",
    "import os\n",
    "from dataset.dataset_meshes import AssemblyMesh"
   ]
  },
  {
   "cell_type": "code",
   "execution_count": 5,
   "id": "939e1a72-5d43-4fb3-85b0-01f674e60f4a",
   "metadata": {
    "tags": []
   },
   "outputs": [],
   "source": [
    "#sphere (mine)\n",
    "#opts = parser(['--assemblies','--dir_name','assembly_dataset_scaled','--reload_model_path','/projects/grail/jamesn8/projects/Shape/AtlasNet/assembly_dataset_scaled/network.pth'])\n",
    "\n",
    "#25 patches (mine)\n",
    "#opts = parser(['--assemblies','--dir_name','assembly_dataset_scaled_25patches','--nb_primitives','25','--template_type','SQUARE','--reload_model_path','/projects/grail/jamesn8/projects/Shape/AtlasNet/assembly_dataset_scaled_25patches/network.pth'])\n",
    "\n",
    "#25 patches (downloaded)\n",
    "opts = parser(['--assemblies','--dir_name','assembly_dataset_scaled_25patches_downloaded','--nb_primitives','25','--template_type','SQUARE','--reload_model_path','/projects/grail/jamesn8/projects/Shape/AtlasNet/training/trained_models/atlasnet_autoencoder_25_squares/network.pth'])"
   ]
  },
  {
   "cell_type": "code",
   "execution_count": 3,
   "id": "d81bcae1-8d82-4d08-aa0c-81d8cde5aa6a",
   "metadata": {},
   "outputs": [
    {
     "name": "stdout",
     "output_type": "stream",
     "text": [
      "\u001b[31mCreate Assembly Mesh Dataset...\u001b[0m\n",
      "\u001b[31mReload dataset : /projects/grail/jamesn8/projects/Shape/AtlasNet/dataset/data/cache/AssemblyUnitBallFalse0scale0.5\u001b[0m\n"
     ]
    }
   ],
   "source": [
    "dataset = AssemblyMesh(opts, train=False)"
   ]
  },
  {
   "cell_type": "code",
   "execution_count": 7,
   "id": "bb21e443-5439-4e45-ac90-8364d422fcff",
   "metadata": {},
   "outputs": [
    {
     "name": "stdout",
     "output_type": "stream",
     "text": [
      "New MLP decoder : hidden size 512, num_layers 2, activation relu\n",
      "New MLP decoder : hidden size 512, num_layers 2, activation relu\n",
      "New MLP decoder : hidden size 512, num_layers 2, activation relu\n",
      "New MLP decoder : hidden size 512, num_layers 2, activation relu\n",
      "New MLP decoder : hidden size 512, num_layers 2, activation relu\n",
      "New MLP decoder : hidden size 512, num_layers 2, activation relu\n",
      "New MLP decoder : hidden size 512, num_layers 2, activation relu\n",
      "New MLP decoder : hidden size 512, num_layers 2, activation relu\n",
      "New MLP decoder : hidden size 512, num_layers 2, activation relu\n",
      "New MLP decoder : hidden size 512, num_layers 2, activation relu\n",
      "New MLP decoder : hidden size 512, num_layers 2, activation relu\n",
      "New MLP decoder : hidden size 512, num_layers 2, activation relu\n",
      "New MLP decoder : hidden size 512, num_layers 2, activation relu\n",
      "New MLP decoder : hidden size 512, num_layers 2, activation relu\n",
      "New MLP decoder : hidden size 512, num_layers 2, activation relu\n",
      "New MLP decoder : hidden size 512, num_layers 2, activation relu\n",
      "New MLP decoder : hidden size 512, num_layers 2, activation relu\n",
      "New MLP decoder : hidden size 512, num_layers 2, activation relu\n",
      "New MLP decoder : hidden size 512, num_layers 2, activation relu\n",
      "New MLP decoder : hidden size 512, num_layers 2, activation relu\n",
      "New MLP decoder : hidden size 512, num_layers 2, activation relu\n",
      "New MLP decoder : hidden size 512, num_layers 2, activation relu\n",
      "New MLP decoder : hidden size 512, num_layers 2, activation relu\n",
      "New MLP decoder : hidden size 512, num_layers 2, activation relu\n",
      "New MLP decoder : hidden size 512, num_layers 2, activation relu\n",
      "\u001b[33mNetwork weights loaded from  /projects/grail/jamesn8/projects/Shape/AtlasNet/training/trained_models/atlasnet_autoencoder_25_squares/network.pth!\u001b[0m\n"
     ]
    }
   ],
   "source": [
    "tester = Tester(opts, using_downloaded_weights=True)"
   ]
  },
  {
   "cell_type": "code",
   "execution_count": 8,
   "id": "6435e51c-3291-460d-905d-527ad1ccb5bb",
   "metadata": {},
   "outputs": [
    {
     "name": "stderr",
     "output_type": "stream",
     "text": [
      "Setting up a new session...\n"
     ]
    },
    {
     "name": "stdout",
     "output_type": "stream",
     "text": [
      "Launching new HTTP instance in port 8891\n",
      "TMUX=0 tmux new-session -d -s http_server \\; send-keys \"/fast/jamesn8/anaconda3/envs/atlasnet/bin/python -m http.server -p 8891 > /dev/null 2>&1\" Enter\n"
     ]
    }
   ],
   "source": [
    "visualizer = Visualizer(opts.visdom_port, opts.env, opts.http_port)"
   ]
  },
  {
   "cell_type": "code",
   "execution_count": null,
   "id": "0a709ef3-5408-48ae-8336-f8f2574ff496",
   "metadata": {},
   "outputs": [],
   "source": [
    "ind = 5\n",
    "sample = dataset[ind]\n",
    "print('assembly',os.path.split(sample['mesh_path'])[-1])\n",
    "\n",
    "pts = sample['points'].unsqueeze(0)\n",
    "outpts = tester.reconstruct(pts.transpose(2, 1))\n",
    "mesh = tester.reconstruct_mesh(pts.transpose(2,1).cuda())\n",
    "visualizer.show_pointcloud(pts, 'test input')\n",
    "if outpts.dim() > 3:\n",
    "    visualizer.show_pointclouds(outpts,'test output')\n",
    "else:\n",
    "    visualizer.show_pointcloud(outpts, 'test output')\n",
    "pymesh.meshio.save_mesh(os.path.join(opts.training_media_path, 'output_mesh.obj'), mesh)"
   ]
  },
  {
   "cell_type": "code",
   "execution_count": 10,
   "id": "7da67d54-db98-462d-8742-be6af455c17b",
   "metadata": {},
   "outputs": [
    {
     "data": {
      "text/plain": [
       "'assembly_dataset_scaled_25patches_downloaded/training_media'"
      ]
     },
     "execution_count": 10,
     "metadata": {},
     "output_type": "execute_result"
    }
   ],
   "source": [
    "opts.training_media_path"
   ]
  },
  {
   "cell_type": "code",
   "execution_count": null,
   "id": "b8671911-e8b7-496f-845b-9afdf11bcd0a",
   "metadata": {},
   "outputs": [],
   "source": []
  }
 ],
 "metadata": {
  "kernelspec": {
   "display_name": "Python 3",
   "language": "python",
   "name": "python3"
  },
  "language_info": {
   "codemirror_mode": {
    "name": "ipython",
    "version": 3
   },
   "file_extension": ".py",
   "mimetype": "text/x-python",
   "name": "python",
   "nbconvert_exporter": "python",
   "pygments_lexer": "ipython3",
   "version": "3.6.13"
  }
 },
 "nbformat": 4,
 "nbformat_minor": 5
}
